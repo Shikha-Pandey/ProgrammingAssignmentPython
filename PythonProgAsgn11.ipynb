{
 "cells": [
  {
   "attachments": {},
   "cell_type": "markdown",
   "metadata": {},
   "source": [
    "1. Write a Python program to find words which are greater than given length k?\n"
   ]
  },
  {
   "cell_type": "code",
   "execution_count": 2,
   "metadata": {},
   "outputs": [
    {
     "name": "stdout",
     "output_type": "stream",
     "text": [
      "['quick', 'brown', 'jumps']\n"
     ]
    }
   ],
   "source": [
    "def find_words_greater_than_k(string, k):\n",
    "    words = string.split()\n",
    "    result = []\n",
    "    for word in words:\n",
    "        if len(word) > k:\n",
    "            result.append(word)\n",
    "    return result\n",
    "\n",
    "string = \"The quick brown fox jumps over the lazy dog\"\n",
    "k = 4\n",
    "print(find_words_greater_than_k(string, k)) \n"
   ]
  },
  {
   "attachments": {},
   "cell_type": "markdown",
   "metadata": {},
   "source": [
    "2. Write a Python program for removing i-th character from a string?\n"
   ]
  },
  {
   "cell_type": "code",
   "execution_count": 3,
   "metadata": {},
   "outputs": [
    {
     "name": "stdout",
     "output_type": "stream",
     "text": [
      "Pyton\n"
     ]
    }
   ],
   "source": [
    "def remove_ith_character(string, i):\n",
    "    return string[:i] + string[i+1:]\n",
    "\n",
    "string = \"Python\"\n",
    "i = 3\n",
    "print(remove_ith_character(string, i))\n"
   ]
  },
  {
   "attachments": {},
   "cell_type": "markdown",
   "metadata": {},
   "source": [
    "3. Write a Python program to split and join a string?\n"
   ]
  },
  {
   "cell_type": "code",
   "execution_count": 4,
   "metadata": {},
   "outputs": [
    {
     "name": "stdout",
     "output_type": "stream",
     "text": [
      "The quick brown fox jumps over the lazy dog\n"
     ]
    }
   ],
   "source": [
    "def split_and_join(string, separator, joiner):\n",
    "    words = string.split(separator)\n",
    "    return joiner.join(words)\n",
    "\n",
    "string = \"The-quick-brown-fox-jumps-over-the-lazy-dog\"\n",
    "separator = \"-\"\n",
    "joiner = \" \"\n",
    "print(split_and_join(string, separator, joiner)) \n",
    "\n"
   ]
  },
  {
   "attachments": {},
   "cell_type": "markdown",
   "metadata": {},
   "source": [
    "4. Write a Python to check if a given string is binary string or not?\n"
   ]
  },
  {
   "cell_type": "code",
   "execution_count": 6,
   "metadata": {},
   "outputs": [
    {
     "name": "stdout",
     "output_type": "stream",
     "text": [
      "True\n",
      "False\n"
     ]
    }
   ],
   "source": [
    "def is_binary_string(string):\n",
    "    for char in string:\n",
    "        if char != \"0\" and char != \"1\":\n",
    "            return False\n",
    "    return True\n",
    "\n",
    "string1 = \"10101010\"\n",
    "string2 = \"12010101\"\n",
    "print(is_binary_string(string1)) \n",
    "print(is_binary_string(string2)) \n"
   ]
  },
  {
   "attachments": {},
   "cell_type": "markdown",
   "metadata": {},
   "source": [
    "5. Write a Python program to find uncommon words from two Strings?\n"
   ]
  },
  {
   "cell_type": "code",
   "execution_count": 8,
   "metadata": {},
   "outputs": [
    {
     "name": "stdout",
     "output_type": "stream",
     "text": [
      "['red', 'dog', 'cat', 'brown']\n"
     ]
    }
   ],
   "source": [
    "def find_uncommon_words(string1, string2):\n",
    "    set1 = set(string1.split())\n",
    "    set2 = set(string2.split())\n",
    "    result = set1.symmetric_difference(set2)\n",
    "    return list(result)\n",
    "\n",
    "string1 = \"The quick brown fox jumps over the lazy dog\"\n",
    "string2 = \"The quick red fox jumps over the lazy cat\"\n",
    "print(find_uncommon_words(string1, string2)) \n"
   ]
  },
  {
   "attachments": {},
   "cell_type": "markdown",
   "metadata": {},
   "source": [
    "6. Write a Python to find all duplicate characters in string?\n"
   ]
  },
  {
   "cell_type": "code",
   "execution_count": 9,
   "metadata": {},
   "outputs": [
    {
     "name": "stdout",
     "output_type": "stream",
     "text": [
      "['h', ' ', 'o', 'r', 'u', 'e']\n"
     ]
    }
   ],
   "source": [
    "def find_duplicate_characters(string):\n",
    "    result = []\n",
    "    for char in set(string):\n",
    "        if string.count(char) > 1:\n",
    "            result.append(char)\n",
    "    return result\n",
    "\n",
    "string = \"The quick brown fox jumps over the lazy dog\"\n",
    "print(find_duplicate_characters(string)) \n"
   ]
  },
  {
   "attachments": {},
   "cell_type": "markdown",
   "metadata": {},
   "source": [
    "7. Write a Python Program to check if a string contains any special character?"
   ]
  },
  {
   "cell_type": "code",
   "execution_count": 12,
   "metadata": {},
   "outputs": [
    {
     "name": "stdout",
     "output_type": "stream",
     "text": [
      "False\n",
      "True\n"
     ]
    }
   ],
   "source": [
    "import re\n",
    "\n",
    "def contains_special_character(string):\n",
    "    pattern = re.compile(\"[^a-zA-Z0-9\\s]+\")\n",
    "    return bool(pattern.search(string))\n",
    "\n",
    "string1 = \"The quick brown fox jumps over the lazy dog\"\n",
    "string2 = \"The quick brown fox jumps over the lazy dog!\"\n",
    "print(contains_special_character(string1))\n",
    "print(contains_special_character(string2)) \n",
    "\n"
   ]
  }
 ],
 "metadata": {
  "kernelspec": {
   "display_name": "base",
   "language": "python",
   "name": "python3"
  },
  "language_info": {
   "codemirror_mode": {
    "name": "ipython",
    "version": 3
   },
   "file_extension": ".py",
   "mimetype": "text/x-python",
   "name": "python",
   "nbconvert_exporter": "python",
   "pygments_lexer": "ipython3",
   "version": "3.9.12"
  },
  "orig_nbformat": 4,
  "vscode": {
   "interpreter": {
    "hash": "835930cdab659cfe0998f909845533c8bce739076c1411aa039e952001a7acf8"
   }
  }
 },
 "nbformat": 4,
 "nbformat_minor": 2
}
