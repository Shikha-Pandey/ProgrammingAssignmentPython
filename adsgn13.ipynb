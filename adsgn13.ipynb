{
 "cells": [
  {
   "attachments": {},
   "cell_type": "markdown",
   "metadata": {},
   "source": [
    "Q1. Is an assignment operator like += only for show? Is it possible that it would lead to faster results\n",
    "at the runtime?\n",
    "\n",
    "A1. No, the += assignment operator is not just for show, and it can lead to faster results at runtime. In Python, the += operator modifies the object in place, which can be more efficient than creating a new object with every iteration.\n",
    "\n"
   ]
  },
  {
   "attachments": {},
   "cell_type": "markdown",
   "metadata": {},
   "source": [
    "\n",
    "Q2. What is the smallest number of statements youd have to write in most programming languages to\n",
    "replace the Python expression a, b = a + b, a?\n",
    "\n",
    "A2. In most programming languages, you would need at least three statements to replace the Python expression a, b = a + b, a. Here is an example in Java:\n",
    "\n",
    "int temp = a;\n",
    "a = a + b;\n",
    "b = temp;\n",
    "\n",
    "\n",
    "\n"
   ]
  },
  {
   "attachments": {},
   "cell_type": "markdown",
   "metadata": {},
   "source": [
    "Q3. In Python, what is the most effective way to set a list of 100 integers to 0?\n",
    "\n",
    "A3. In Python, the most effective way to set a list of 100 integers to 0 is to use a list comprehension:\n",
    "\n",
    "my_list = [0] * 100\n",
    "\n"
   ]
  },
  {
   "attachments": {},
   "cell_type": "markdown",
   "metadata": {},
   "source": [
    "Q4. What is the most effective way to initialise a list of 99 integers that repeats the sequence 1, 2, 3?\n",
    "S If necessary, show step-by-step instructions on how to accomplish this.\n",
    "\n",
    "A4. In Python, the most effective way to initialize a list of 99 integers that repeats the sequence 1, 2, 3 is to use a list comprehension:\n",
    "\n",
    "my_list = [i % 3 + 1 for i in range(99)]\n",
    "\n",
    "\n"
   ]
  },
  {
   "attachments": {},
   "cell_type": "markdown",
   "metadata": {},
   "source": [
    "Q5. If youre using IDLE to run a Python application, explain how to print a multidimensional list as\n",
    "efficiently?\n",
    "\n",
    "\n",
    "A5.import pprint\n",
    "\n",
    "my_list = [[1, 2, 3], [4, 5, 6], [7, 8, 9]]\n",
    "pprint.pprint(my_list)\n",
    "\n",
    "\n",
    "\n"
   ]
  },
  {
   "attachments": {},
   "cell_type": "markdown",
   "metadata": {},
   "source": [
    "Q6. Is it possible to use list comprehension with a string? If so, how can you go about doing it?\n",
    "\n",
    "\n",
    "A6.Yes, it is possible to use list comprehension with a string. Here's an example:\n",
    "\n",
    "my_string = \"hello world\"\n",
    "my_list = [x.upper() for x in my_string]\n",
    "print(my_list)\n",
    "\n"
   ]
  },
  {
   "attachments": {},
   "cell_type": "markdown",
   "metadata": {},
   "source": [
    "Q7. From the command line, how do you get support with a user-written Python programme? Is this\n",
    "possible from inside IDLE?\n",
    "\n",
    "\n",
    "A7. From the command line, you can get support with a user-written Python program by using the built-in help() function. For example, to get help with the print() function, you would type:\n",
    "\n",
    "help(print)\n",
    "It is also possible to get help from inside IDLE by using the same help() function in the Python shell.\n",
    "\n",
    "\n"
   ]
  },
  {
   "attachments": {},
   "cell_type": "markdown",
   "metadata": {},
   "source": [
    "Q8. Functions are said to be “first-class objects” in Python but not in most other languages, such as\n",
    "C++ or Java. What can you do in Python with a function (callable object) that you can't do in C or\n",
    "C++?\n",
    "\n",
    "A8.In Python, functions are first-class objects, which means they can be treated like any other object, such as integers or strings. This allows for powerful programming paradigms, such as functional programming, where functions can be passed as arguments to other functions, returned from functions, and stored in data structures. This is not possible in C or C++."
   ]
  },
  {
   "attachments": {},
   "cell_type": "markdown",
   "metadata": {},
   "source": [
    "\n",
    "Q9. How do you distinguish between a wrapper, a wrapped feature, and a decorator?\n",
    "\n",
    "A9. A wrapper is a function or a class that is used to modify the behavior of an existing function or class. A wrapped feature is the original function or class that is being modified by the wrapper. A decorator is a special kind of wrapper that is used to modify the behavior of a function or method.\n",
    "\n"
   ]
  },
  {
   "attachments": {},
   "cell_type": "markdown",
   "metadata": {},
   "source": [
    "Q10. If a function is a generator function, what does it return?\n",
    "\n",
    "A10. A generator function returns a generator object. The generator object is used to generate a sequence of values lazily, on-the-fly, as they are needed, rather than generating them all at once and storing them in memory.\n",
    "\n"
   ]
  },
  {
   "attachments": {},
   "cell_type": "markdown",
   "metadata": {},
   "source": [
    "Q11. What is the one improvement that must be made to a function in order for it to become a\n",
    "generator function in the Python language?\n",
    "\n",
    "A11. The improvement that must be made to a function in order for it to become a generator function is to use the yield keyword instead of return to return values. When the yield keyword is used, the function becomes a generator function and returns a generator object.\n",
    "\n"
   ]
  },
  {
   "attachments": {},
   "cell_type": "markdown",
   "metadata": {},
   "source": [
    "\n",
    "Q12. Identify at least one benefit of generators.\n",
    "\n",
    "A12. One benefit of generators is that they allow you to generate sequences of values lazily, on-the-fly, as they are needed, rather than generating them all at once and storing them in memory. This can be especially useful when dealing with large datasets or infinite sequences. Additionally, generators can also be used to create infinite sequences, and they can be used to produce values on-the-fly in a concurrent or parallel context."
   ]
  }
 ],
 "metadata": {
  "language_info": {
   "name": "python"
  },
  "orig_nbformat": 4
 },
 "nbformat": 4,
 "nbformat_minor": 2
}
