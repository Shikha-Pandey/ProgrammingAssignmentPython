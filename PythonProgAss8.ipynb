{
 "cells": [
  {
   "attachments": {},
   "cell_type": "markdown",
   "metadata": {},
   "source": [
    "##### 1. Write a Python Program to Add Two Matrices?\n"
   ]
  },
  {
   "cell_type": "code",
   "execution_count": 1,
   "metadata": {},
   "outputs": [
    {
     "name": "stdout",
     "output_type": "stream",
     "text": [
      "[11, 13, 15]\n",
      "[17, 19, 21]\n",
      "[23, 25, 27]\n"
     ]
    }
   ],
   "source": [
    "# input matrices\n",
    "matrix1 = [[1, 2, 3],\n",
    "          [4, 5, 6],\n",
    "          [7, 8, 9]]\n",
    "\n",
    "matrix2 = [[10, 11, 12],\n",
    "          [13, 14, 15],\n",
    "          [16, 17, 18]]\n",
    "\n",
    "# initialize a result matrix\n",
    "result = [[0, 0, 0],\n",
    "         [0, 0, 0],\n",
    "         [0, 0, 0]]\n",
    "\n",
    "# iterate through each element in the matrices and add them\n",
    "for i in range(len(matrix1)):\n",
    "    for j in range(len(matrix1[0])):\n",
    "        result[i][j] = matrix1[i][j] + matrix2[i][j]\n",
    "\n",
    "# print the result\n",
    "for row in result:\n",
    "    print(row)\n"
   ]
  },
  {
   "attachments": {},
   "cell_type": "markdown",
   "metadata": {},
   "source": [
    "##### 2. Write a Python Program to Multiply Two Matrices?\n"
   ]
  },
  {
   "cell_type": "code",
   "execution_count": 2,
   "metadata": {},
   "outputs": [
    {
     "name": "stdout",
     "output_type": "stream",
     "text": [
      "[76, 82]\n",
      "[184, 199]\n",
      "[292, 316]\n"
     ]
    }
   ],
   "source": [
    "# input matrices\n",
    "matrix1 = [[1, 2, 3],\n",
    "          [4, 5, 6],\n",
    "          [7, 8, 9]]\n",
    "\n",
    "matrix2 = [[10, 11],\n",
    "          [12, 13],\n",
    "          [14, 15]]\n",
    "\n",
    "# initialize a result matrix\n",
    "result = [[0, 0],\n",
    "         [0, 0],\n",
    "         [0, 0]]\n",
    "\n",
    "# iterate through each element in the matrices and perform matrix multiplication\n",
    "for i in range(len(matrix1)):\n",
    "    for j in range(len(matrix2[0])):\n",
    "        for k in range(len(matrix2)):\n",
    "            result[i][j] += matrix1[i][k] * matrix2[k][j]\n",
    "\n",
    "# print the result\n",
    "for row in result:\n",
    "    print(row)\n"
   ]
  },
  {
   "attachments": {},
   "cell_type": "markdown",
   "metadata": {},
   "source": [
    "##### 3. Write a Python Program to Transpose a Matrix?\n"
   ]
  },
  {
   "cell_type": "code",
   "execution_count": 3,
   "metadata": {},
   "outputs": [
    {
     "name": "stdout",
     "output_type": "stream",
     "text": [
      "[1, 3, 5]\n",
      "[2, 4, 6]\n"
     ]
    }
   ],
   "source": [
    "# input matrix\n",
    "matrix = [[1, 2],\n",
    "          [3, 4],\n",
    "          [5, 6]]\n",
    "\n",
    "# initialize a result matrix\n",
    "result = [[0, 0, 0],\n",
    "         [0, 0, 0]]\n",
    "\n",
    "# iterate through each element in the matrix and transpose it\n",
    "for i in range(len(matrix)):\n",
    "    for j in range(len(matrix[0])):\n",
    "        result[j][i] = matrix[i][j]\n",
    "\n",
    "# print the result\n",
    "for row in result:\n",
    "    print(row)\n"
   ]
  },
  {
   "attachments": {},
   "cell_type": "markdown",
   "metadata": {},
   "source": [
    "##### 4. Write a Python Program to Sort Words in Alphabetic Order?\n"
   ]
  },
  {
   "cell_type": "code",
   "execution_count": 4,
   "metadata": {},
   "outputs": [
    {
     "name": "stdout",
     "output_type": "stream",
     "text": [
      "a hello is string test this world\n"
     ]
    }
   ],
   "source": [
    "# input string\n",
    "string = \"hello world this is a test string\"\n",
    "\n",
    "# split the string into words\n",
    "words = string.split()\n",
    "\n",
    "# sort the words in alphabetical order\n",
    "words.sort()\n",
    "\n",
    "# join the sorted words back into a string\n",
    "sorted_string = \" \".join(words)\n",
    "\n",
    "# print the result\n",
    "print(sorted_string)\n"
   ]
  },
  {
   "attachments": {},
   "cell_type": "markdown",
   "metadata": {},
   "source": [
    "##### 5. Write a Python Program to Remove Punctuation From a String?"
   ]
  },
  {
   "cell_type": "code",
   "execution_count": 5,
   "metadata": {},
   "outputs": [
    {
     "name": "stdout",
     "output_type": "stream",
     "text": [
      "Hello World This is a test string\n"
     ]
    }
   ],
   "source": [
    "import string\n",
    "\n",
    "# input string\n",
    "string_with_punctuations = \"Hello, World! This is a test string.\"\n",
    "\n",
    "# remove punctuation from the string\n",
    "string_without_punctuations = string_with_punctuations.translate(str.maketrans(\"\", \"\", string.punctuation))\n",
    "\n",
    "# print the result\n",
    "print(string_without_punctuations)\n"
   ]
  },
  {
   "cell_type": "code",
   "execution_count": null,
   "metadata": {},
   "outputs": [],
   "source": []
  }
 ],
 "metadata": {
  "kernelspec": {
   "display_name": "base",
   "language": "python",
   "name": "python3"
  },
  "language_info": {
   "codemirror_mode": {
    "name": "ipython",
    "version": 3
   },
   "file_extension": ".py",
   "mimetype": "text/x-python",
   "name": "python",
   "nbconvert_exporter": "python",
   "pygments_lexer": "ipython3",
   "version": "3.9.12"
  },
  "orig_nbformat": 4,
  "vscode": {
   "interpreter": {
    "hash": "835930cdab659cfe0998f909845533c8bce739076c1411aa039e952001a7acf8"
   }
  }
 },
 "nbformat": 4,
 "nbformat_minor": 2
}
