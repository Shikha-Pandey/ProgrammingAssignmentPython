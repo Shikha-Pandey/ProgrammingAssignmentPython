{
 "cells": [
  {
   "attachments": {},
   "cell_type": "markdown",
   "metadata": {},
   "source": [
    "1. Write a Python program to find sum of elements in list?\n"
   ]
  },
  {
   "cell_type": "code",
   "execution_count": 17,
   "metadata": {},
   "outputs": [
    {
     "name": "stdout",
     "output_type": "stream",
     "text": [
      "15\n"
     ]
    }
   ],
   "source": [
    "def sum_list(lst):\n",
    "    return sum(lst)\n",
    "\n",
    "# Example\n",
    "lst = [1, 2, 3, 4, 5]\n",
    "print(sum_list(lst))\n"
   ]
  },
  {
   "attachments": {},
   "cell_type": "markdown",
   "metadata": {},
   "source": [
    "2. Write a Python program to Multiply all numbers in the list?\n"
   ]
  },
  {
   "cell_type": "code",
   "execution_count": 18,
   "metadata": {},
   "outputs": [
    {
     "name": "stdout",
     "output_type": "stream",
     "text": [
      "120\n"
     ]
    }
   ],
   "source": [
    "def multiply_list(lst):\n",
    "    result = 1\n",
    "    for num in lst:\n",
    "        result *= num\n",
    "    return result\n",
    "\n",
    "# Example \n",
    "lst = [1, 2, 3, 4, 5]\n",
    "print(multiply_list(lst))\n"
   ]
  },
  {
   "attachments": {},
   "cell_type": "markdown",
   "metadata": {},
   "source": [
    "3. Write a Python program to find smallest number in a list?\n"
   ]
  },
  {
   "cell_type": "code",
   "execution_count": 19,
   "metadata": {},
   "outputs": [
    {
     "name": "stdout",
     "output_type": "stream",
     "text": [
      "1\n"
     ]
    }
   ],
   "source": [
    "def find_smallest(lst):\n",
    "    return min(lst)\n",
    "\n",
    "# Example usage\n",
    "lst = [3, 1, 5, 7, 2]\n",
    "print(find_smallest(lst)) \n"
   ]
  },
  {
   "attachments": {},
   "cell_type": "markdown",
   "metadata": {},
   "source": [
    "4. Write a Python program to find largest number in a list?\n"
   ]
  },
  {
   "cell_type": "code",
   "execution_count": 21,
   "metadata": {},
   "outputs": [
    {
     "name": "stdout",
     "output_type": "stream",
     "text": [
      "7\n"
     ]
    }
   ],
   "source": [
    "def find_largest(lst):\n",
    "    return max(lst)\n",
    "\n",
    "# Example \n",
    "lst = [3, 1, 5, 7, 2]\n",
    "print(find_largest(lst)) \n"
   ]
  },
  {
   "attachments": {},
   "cell_type": "markdown",
   "metadata": {},
   "source": [
    "5. Write a Python program to find second largest number in a list?\n"
   ]
  },
  {
   "cell_type": "code",
   "execution_count": 23,
   "metadata": {},
   "outputs": [
    {
     "name": "stdout",
     "output_type": "stream",
     "text": [
      "5\n"
     ]
    }
   ],
   "source": [
    "def find_second_largest(lst):\n",
    "    lst.sort(reverse=True)\n",
    "    return lst[1]\n",
    "\n",
    "# Example\n",
    "lst = [3, 1, 5, 7, 2]\n",
    "print(find_second_largest(lst)) \n"
   ]
  },
  {
   "attachments": {},
   "cell_type": "markdown",
   "metadata": {},
   "source": [
    "6. Write a Python program to find N largest elements from a list?\n"
   ]
  },
  {
   "cell_type": "code",
   "execution_count": 20,
   "metadata": {},
   "outputs": [
    {
     "name": "stdout",
     "output_type": "stream",
     "text": [
      "[7, 5, 3]\n"
     ]
    }
   ],
   "source": [
    "def find_n_largest(lst, n):\n",
    "    lst.sort(reverse=True)\n",
    "    return lst[:n]\n",
    "\n",
    "# Example \n",
    "lst = [3, 1, 5, 7, 2]\n",
    "n = 3\n",
    "print(find_n_largest(lst, n))\n"
   ]
  },
  {
   "attachments": {},
   "cell_type": "markdown",
   "metadata": {},
   "source": [
    "7. Write a Python program to print even numbers in a list?\n"
   ]
  },
  {
   "cell_type": "code",
   "execution_count": 24,
   "metadata": {},
   "outputs": [
    {
     "name": "stdout",
     "output_type": "stream",
     "text": [
      "2\n"
     ]
    }
   ],
   "source": [
    "def print_even(lst):\n",
    "    for num in lst:\n",
    "        if num % 2 == 0:\n",
    "            print(num)\n",
    "\n",
    "# Example\n",
    "lst = [3, 1, 5, 7, 2]\n",
    "print_even(lst)\n"
   ]
  },
  {
   "attachments": {},
   "cell_type": "markdown",
   "metadata": {},
   "source": [
    "8. Write a Python program to print odd numbers in a List?\n"
   ]
  },
  {
   "cell_type": "code",
   "execution_count": 25,
   "metadata": {},
   "outputs": [
    {
     "name": "stdout",
     "output_type": "stream",
     "text": [
      "3\n",
      "1\n",
      "5\n",
      "7\n"
     ]
    }
   ],
   "source": [
    "def print_odd(lst):\n",
    "    for num in lst:\n",
    "        if num % 2 != 0:\n",
    "            print(num)\n",
    "\n",
    "# Example \n",
    "lst = [3, 1, 5, 7, 2]\n",
    "print_odd(lst)\n"
   ]
  },
  {
   "attachments": {},
   "cell_type": "markdown",
   "metadata": {},
   "source": [
    "9. Write a Python program to Remove empty List from List?\n"
   ]
  },
  {
   "cell_type": "code",
   "execution_count": 14,
   "metadata": {},
   "outputs": [
    {
     "name": "stdout",
     "output_type": "stream",
     "text": [
      "[[1, 2], [3, 4, 5]]\n"
     ]
    }
   ],
   "source": [
    "def remove_empty_lists(lst):\n",
    "    return [sublst for sublst in lst if sublst]\n",
    "\n",
    "# Example usage\n",
    "lst = [[], [1, 2], [], [3, 4, 5], []]\n",
    "print(remove_empty_lists(lst)) \n"
   ]
  },
  {
   "attachments": {},
   "cell_type": "markdown",
   "metadata": {},
   "source": [
    "10. Write a Python program to Cloning or Copying a list?\n"
   ]
  },
  {
   "cell_type": "code",
   "execution_count": 16,
   "metadata": {},
   "outputs": [
    {
     "name": "stdout",
     "output_type": "stream",
     "text": [
      "[1, 2, 3]\n"
     ]
    }
   ],
   "source": [
    "def clone_list(lst):\n",
    "    return lst.copy()\n",
    "\n",
    "# Example\n",
    "lst = [1, 2, 3]\n",
    "new_lst = clone_list(lst)\n",
    "print(new_lst) \n"
   ]
  },
  {
   "attachments": {},
   "cell_type": "markdown",
   "metadata": {},
   "source": [
    "11. Write a Python program to Count occurrences of an element in a list?"
   ]
  },
  {
   "cell_type": "code",
   "execution_count": 26,
   "metadata": {},
   "outputs": [
    {
     "name": "stdout",
     "output_type": "stream",
     "text": [
      "The element 2 occurs 3 times in the list.\n"
     ]
    }
   ],
   "source": [
    "my_list = [1, 2, 3, 4, 2, 5, 2]\n",
    "element = 2\n",
    "\n",
    "count = my_list.count(element)\n",
    "print(\"The element\", element, \"occurs\", count, \"times in the list.\")"
   ]
  }
 ],
 "metadata": {
  "kernelspec": {
   "display_name": "base",
   "language": "python",
   "name": "python3"
  },
  "language_info": {
   "codemirror_mode": {
    "name": "ipython",
    "version": 3
   },
   "file_extension": ".py",
   "mimetype": "text/x-python",
   "name": "python",
   "nbconvert_exporter": "python",
   "pygments_lexer": "ipython3",
   "version": "3.9.12"
  },
  "orig_nbformat": 4,
  "vscode": {
   "interpreter": {
    "hash": "835930cdab659cfe0998f909845533c8bce739076c1411aa039e952001a7acf8"
   }
  }
 },
 "nbformat": 4,
 "nbformat_minor": 2
}
