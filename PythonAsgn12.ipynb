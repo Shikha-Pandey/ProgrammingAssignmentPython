{
 "cells": [
  {
   "attachments": {},
   "cell_type": "markdown",
   "metadata": {},
   "source": [
    "1. Write a Python program to Extract Unique values dictionary values?\n"
   ]
  },
  {
   "cell_type": "code",
   "execution_count": 1,
   "metadata": {},
   "outputs": [
    {
     "name": "stdout",
     "output_type": "stream",
     "text": [
      "{1, 2, 3, 4, 5, 6, 7, 8, 9}\n"
     ]
    }
   ],
   "source": [
    "# sample dictionary\n",
    "my_dict = {'a': [1, 2, 3, 2], 'b': [3, 4, 5, 6], 'c': [7, 8, 9, 9]}\n",
    "\n",
    "# using set comprehension to get unique values from dictionary values\n",
    "unique_values = set(val for sublist in my_dict.values() for val in sublist)\n",
    "\n",
    "# printing unique values\n",
    "print(unique_values)\n"
   ]
  },
  {
   "attachments": {},
   "cell_type": "markdown",
   "metadata": {},
   "source": [
    "2. Write a Python program to find the sum of all items in a dictionary?\n"
   ]
  },
  {
   "cell_type": "code",
   "execution_count": 2,
   "metadata": {},
   "outputs": [
    {
     "name": "stdout",
     "output_type": "stream",
     "text": [
      "600\n"
     ]
    }
   ],
   "source": [
    "# sample dictionary\n",
    "my_dict = {'a': 100, 'b': 200, 'c': 300}\n",
    "\n",
    "# finding the sum of all values in the dictionary\n",
    "dict_sum = sum(my_dict.values())\n",
    "\n",
    "# printing the sum\n",
    "print(dict_sum)\n"
   ]
  },
  {
   "attachments": {},
   "cell_type": "markdown",
   "metadata": {},
   "source": [
    "3. Write a Python program to Merging two Dictionaries?\n"
   ]
  },
  {
   "cell_type": "code",
   "execution_count": 3,
   "metadata": {},
   "outputs": [
    {
     "name": "stdout",
     "output_type": "stream",
     "text": [
      "{'a': 100, 'b': 200, 'c': 300, 'd': 400}\n"
     ]
    }
   ],
   "source": [
    "# sample dictionaries\n",
    "dict1 = {'a': 100, 'b': 200}\n",
    "dict2 = {'c': 300, 'd': 400}\n",
    "\n",
    "# using update() method to merge dictionaries\n",
    "dict1.update(dict2)\n",
    "\n",
    "# printing merged dictionary\n",
    "print(dict1)\n"
   ]
  },
  {
   "attachments": {},
   "cell_type": "markdown",
   "metadata": {},
   "source": [
    "4. Write a Python program to convert key-values list to flat dictionary?\n"
   ]
  },
  {
   "cell_type": "code",
   "execution_count": 4,
   "metadata": {},
   "outputs": [
    {
     "name": "stdout",
     "output_type": "stream",
     "text": [
      "{'a': 1, 'b': 2, 'c': 3}\n"
     ]
    }
   ],
   "source": [
    "# sample lists\n",
    "keys = ['a', 'b', 'c']\n",
    "values = [1, 2, 3]\n",
    "\n",
    "# using dictionary comprehension to create flat dictionary\n",
    "flat_dict = {keys[i]: values[i] for i in range(len(keys))}\n",
    "\n",
    "# printing flat dictionary\n",
    "print(flat_dict)\n"
   ]
  },
  {
   "attachments": {},
   "cell_type": "markdown",
   "metadata": {},
   "source": [
    "5. Write a Python program to insertion at the beginning in OrderedDict?\n"
   ]
  },
  {
   "cell_type": "code",
   "execution_count": 9,
   "metadata": {},
   "outputs": [
    {
     "name": "stdout",
     "output_type": "stream",
     "text": [
      "OrderedDict([('d', 4), ('a', 1), ('b', 2), ('c', 3)])\n"
     ]
    }
   ],
   "source": [
    "from collections import OrderedDict\n",
    "\n",
    "# sample OrderedDict\n",
    "my_dict = OrderedDict([('a', 1), ('b', 2), ('c', 3)])\n",
    "\n",
    "\n",
    "\n",
    "# inserting new key-value pair at the beginning\n",
    "my_dict.update({'d': 4})\n",
    "my_dict.move_to_end('d', last=False)\n",
    "\n",
    "# printing the modified OrderedDict\n",
    "print(my_dict)\n"
   ]
  },
  {
   "attachments": {},
   "cell_type": "markdown",
   "metadata": {},
   "source": [
    "6. Write a Python program to check order of character in string using OrderedDict()?\n"
   ]
  },
  {
   "cell_type": "code",
   "execution_count": 11,
   "metadata": {},
   "outputs": [
    {
     "name": "stdout",
     "output_type": "stream",
     "text": [
      "Pattern found\n"
     ]
    }
   ],
   "source": [
    "from collections import OrderedDict\n",
    "\n",
    "# sample string and pattern\n",
    "my_string = \"apple\"\n",
    "my_pattern = \"pl\"\n",
    "\n",
    "# creating an OrderedDict from the string\n",
    "my_dict = OrderedDict.fromkeys(my_string)\n",
    "\n",
    "# checking if pattern is present in the OrderedDict\n",
    "pattern_found = 0\n",
    "j = 0\n",
    "for key in my_dict:\n",
    "    if key == my_pattern[j]:\n",
    "        j += 1\n",
    "        if j == len(my_pattern):\n",
    "            pattern_found = 1\n",
    "            break\n",
    "\n",
    "# printing the result\n",
    "if pattern_found:\n",
    "    print(\"Pattern found\")\n",
    "else:\n",
    "    print(\"Pattern not found\")\n"
   ]
  },
  {
   "attachments": {},
   "cell_type": "markdown",
   "metadata": {},
   "source": [
    "7. Write a Python program to sort Python Dictionaries by Key or Value?"
   ]
  },
  {
   "cell_type": "code",
   "execution_count": 12,
   "metadata": {},
   "outputs": [
    {
     "name": "stdout",
     "output_type": "stream",
     "text": [
      "{'apple': 50, 'banana': 20, 'cherry': 80}\n",
      "{'banana': 20, 'apple': 50, 'cherry': 80}\n"
     ]
    }
   ],
   "source": [
    "# sample dictionary\n",
    "my_dict = {'apple': 50, 'banana': 20, 'cherry': 80}\n",
    "\n",
    "# sorting dictionary by key\n",
    "sorted_dict_by_key = {k: v for k, v in sorted(my_dict.items())}\n",
    "\n",
    "# sorting dictionary by value\n",
    "sorted_dict_by_value = {k: v for k, v in sorted(my_dict.items(), key=lambda item: item[1])}\n",
    "\n",
    "# printing sorted dictionaries\n",
    "print(sorted_dict_by_key)\n",
    "print(sorted_dict_by_value)\n"
   ]
  },
  {
   "cell_type": "code",
   "execution_count": null,
   "metadata": {},
   "outputs": [],
   "source": []
  }
 ],
 "metadata": {
  "kernelspec": {
   "display_name": "base",
   "language": "python",
   "name": "python3"
  },
  "language_info": {
   "codemirror_mode": {
    "name": "ipython",
    "version": 3
   },
   "file_extension": ".py",
   "mimetype": "text/x-python",
   "name": "python",
   "nbconvert_exporter": "python",
   "pygments_lexer": "ipython3",
   "version": "3.9.12"
  },
  "orig_nbformat": 4,
  "vscode": {
   "interpreter": {
    "hash": "835930cdab659cfe0998f909845533c8bce739076c1411aa039e952001a7acf8"
   }
  }
 },
 "nbformat": 4,
 "nbformat_minor": 2
}
