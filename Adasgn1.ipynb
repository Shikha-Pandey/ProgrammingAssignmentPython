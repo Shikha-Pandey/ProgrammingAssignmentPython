{
 "cells": [
  {
   "attachments": {},
   "cell_type": "markdown",
   "metadata": {},
   "source": [
    "Q1. What is the purpose of Python's OOP?\n",
    "\n",
    "A1. The purpose of Python's Object-Oriented Programming (OOP) is to create modular, reusable, and scalable code that allows developers to organize and manage complex programs more effectively. OOP provides a way to define and organize data structures and behaviors into classes and objects, making code more manageable and easier to maintain."
   ]
  },
  {
   "attachments": {},
   "cell_type": "markdown",
   "metadata": {},
   "source": [
    "Q2. Where does an inheritance search look for an attribute?\n",
    "\n",
    "A2. Inheritance search looks for an attribute first in the instance object, then in the class object, then in the superclass objects in the order in which they are defined."
   ]
  },
  {
   "attachments": {},
   "cell_type": "markdown",
   "metadata": {},
   "source": [
    "Q3. How do you distinguish between a class object and an instance object?\n",
    "\n",
    "A3. A class object is a blueprint for creating objects, whereas an instance object is a specific realization of a class object. In other words, a class defines the attributes and methods of an object, while an instance is an individual object created from that class."
   ]
  },
  {
   "attachments": {},
   "cell_type": "markdown",
   "metadata": {},
   "source": [
    "Q4. What makes the first argument in a class’s method function special?\n",
    "\n",
    "A4. The first argument in a class's method function (often named \"self\") refers to the instance object that the method is being called on. It allows the method to access and modify the instance's attributes and perform operations specific to that instance."
   ]
  },
  {
   "attachments": {},
   "cell_type": "markdown",
   "metadata": {},
   "source": [
    "Q5. What is the purpose of the __init__ method?\n",
    "\n",
    "A5. The __init__ method is a special method in Python classes that is called when a new instance of the class is created. It is used to initialize the instance's attributes and can take parameters that are used to set initial values."
   ]
  },
  {
   "attachments": {},
   "cell_type": "markdown",
   "metadata": {},
   "source": [
    "\n",
    "Q6. What is the process for creating a class instance?\n",
    "\n",
    "A6. To create a class instance in Python, we first define a class, and then we call the class constructor (using the class name) to create a new instance of the class. For example, if we have a class named MyClass, we can create an instance of that class by calling my_instance = MyClass()."
   ]
  },
  {
   "attachments": {},
   "cell_type": "markdown",
   "metadata": {},
   "source": [
    "Q7. What is the process for creating a class?\n",
    "\n",
    "A7. To create a class in Python, we use the class keyword followed by the class name, and then define the class attributes and methods within the class block. For example:\n",
    "\n",
    "    class MyClass:\n",
    "    # class attributes and methods here\n"
   ]
  },
  {
   "attachments": {},
   "cell_type": "markdown",
   "metadata": {},
   "source": [
    "Q8. How would you define the superclasses of a class?\n",
    "A8. The superclasses of a class are the classes from which it inherits attributes and methods. In Python, we can define a class that inherits from one or more parent classes by including them in the class definition using parentheses. For example:\n",
    "\n",
    "   class ChildClass(ParentClass1, ParentClass2):\n",
    "    # class attributes and methods here"
   ]
  }
 ],
 "metadata": {
  "kernelspec": {
   "display_name": "base",
   "language": "python",
   "name": "python3"
  },
  "language_info": {
   "name": "python",
   "version": "3.9.12"
  },
  "orig_nbformat": 4
 },
 "nbformat": 4,
 "nbformat_minor": 2
}
