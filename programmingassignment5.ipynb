{
 "cells": [
  {
   "cell_type": "markdown",
   "id": "29b8466a",
   "metadata": {},
   "source": [
    "1.\tWrite a Python Program to Find LCM?\n",
    "\n"
   ]
  },
  {
   "cell_type": "code",
   "execution_count": 3,
   "id": "31357fb9",
   "metadata": {},
   "outputs": [
    {
     "name": "stdout",
     "output_type": "stream",
     "text": [
      "Enter the 1st no : 25\n",
      "Enter the 2nd no : 45\n",
      "225\n"
     ]
    }
   ],
   "source": [
    "num1=int(input(\"Enter the 1st no : \"))\n",
    "num2=int(input(\"Enter the 2nd no : \"))\n",
    "def lcmOfNos(num1,num2):\n",
    " \n",
    "    if num1>num2:\n",
    "        greater=num1\n",
    "    else:\n",
    "        greater=num2\n",
    "    \n",
    "    while(True):\n",
    "        if (greater%num1==0) and (greater%num2==0):\n",
    "            lcm=greater\n",
    "            break\n",
    "        greater+=1\n",
    "    return lcm\n",
    "print(lcmOfNos(num1,num2))\n",
    "\n",
    "        "
   ]
  },
  {
   "cell_type": "markdown",
   "id": "cc9480ce",
   "metadata": {},
   "source": [
    "2.\tWrite a Python Program to Find HCF?\n"
   ]
  },
  {
   "cell_type": "code",
   "execution_count": 2,
   "id": "911639fe",
   "metadata": {},
   "outputs": [
    {
     "name": "stdout",
     "output_type": "stream",
     "text": [
      "Enter the 1st no : 20\n",
      "Enter the 2nd no : 200\n",
      "hcf of two nos is :  20\n"
     ]
    }
   ],
   "source": [
    "num1=int(input(\"Enter the 1st no : \"))\n",
    "num2=int(input(\"Enter the 2nd no : \"))\n",
    "\n",
    "def hcfOfNos(num1,num2):\n",
    "    if num1<num2:\n",
    "        smaller=num1\n",
    "    else:\n",
    "        smaller=num2\n",
    "    \n",
    "    \n",
    "    for i in range(1,smaller+1):\n",
    "        if((num1%i==0) and (num2%i==0)):\n",
    "            hcf=i\n",
    "    return hcf\n",
    "\n",
    "print(\"hcf of two nos is : \",hcfOfNos(num1,num2))\n",
    "            \n",
    "    "
   ]
  },
  {
   "cell_type": "markdown",
   "id": "ccadf9ac",
   "metadata": {},
   "source": [
    "3.\tWrite a Python Program to Convert Decimal to Binary, Octal and Hexadecimal?\n"
   ]
  },
  {
   "cell_type": "code",
   "execution_count": 5,
   "id": "6c992fc5",
   "metadata": {},
   "outputs": [
    {
     "name": "stdout",
     "output_type": "stream",
     "text": [
      "Enter the 1st no : 8\n",
      "binary conversion : 0b1000\n",
      "Octal conversion :  0o10\n",
      "Hexadecimal conversion:  0x8\n"
     ]
    }
   ],
   "source": [
    "num=int(input(\"Enter the 1st no : \"))\n",
    "\n",
    "binaryNo=bin(num)\n",
    "octalNo=oct(num)\n",
    "hexadecimalNo=hex(num)\n",
    "\n",
    "print(\"binary conversion :\",binaryNo)\n",
    "print(\"Octal conversion : \",octalNo)\n",
    "print(\"Hexadecimal conversion: \",hexadecimalNo)"
   ]
  },
  {
   "cell_type": "markdown",
   "id": "7aa2a136",
   "metadata": {},
   "source": [
    "4.\tWrite a Python Program To Find ASCII value of a character?\n"
   ]
  },
  {
   "cell_type": "code",
   "execution_count": 10,
   "id": "75c8e799",
   "metadata": {},
   "outputs": [
    {
     "name": "stdout",
     "output_type": "stream",
     "text": [
      "Enter the alphabet : 1\n",
      "The ASCII value of '1' is 49\n"
     ]
    }
   ],
   "source": [
    "x=input(\"Enter the alphabet : \")\n",
    "print(\"The ASCII value of '\" + x + \"' is\", ord(x))"
   ]
  },
  {
   "cell_type": "markdown",
   "id": "bc443250",
   "metadata": {},
   "source": [
    "5.\tWrite a Python Program to Make a Simple Calculator with 4 basic mathematical operations?"
   ]
  },
  {
   "cell_type": "code",
   "execution_count": 16,
   "id": "3c414b12",
   "metadata": {},
   "outputs": [
    {
     "name": "stdout",
     "output_type": "stream",
     "text": [
      "Enter the 1st no : 30\n",
      "Enter the 2nd no : 3\n",
      " Enter the operation to be done /\n",
      "10.0\n"
     ]
    }
   ],
   "source": [
    "num1=int(input(\"Enter the 1st no : \"))\n",
    "num2=int(input(\"Enter the 2nd no : \"))\n",
    "operation=input(\" Enter the operation to be done \")\n",
    "if operation==\"+\":\n",
    "    print(num1+num2)\n",
    "if operation==\"-\":\n",
    "    print(num1-num2)\n",
    "if operation==\"*\":\n",
    "    print(num1*num2)\n",
    "if operation==\"/\":\n",
    "    print(num1/num2)\n",
    "\n"
   ]
  },
  {
   "cell_type": "code",
   "execution_count": null,
   "id": "b58c493b",
   "metadata": {},
   "outputs": [],
   "source": []
  },
  {
   "cell_type": "code",
   "execution_count": null,
   "id": "2ec4f5f4",
   "metadata": {},
   "outputs": [],
   "source": []
  }
 ],
 "metadata": {
  "kernelspec": {
   "display_name": "Python 3 (ipykernel)",
   "language": "python",
   "name": "python3"
  },
  "language_info": {
   "codemirror_mode": {
    "name": "ipython",
    "version": 3
   },
   "file_extension": ".py",
   "mimetype": "text/x-python",
   "name": "python",
   "nbconvert_exporter": "python",
   "pygments_lexer": "ipython3",
   "version": "3.9.12"
  }
 },
 "nbformat": 4,
 "nbformat_minor": 5
}
