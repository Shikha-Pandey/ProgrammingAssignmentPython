{
 "cells": [
  {
   "attachments": {},
   "cell_type": "markdown",
   "metadata": {},
   "source": [
    "1. What is the concept of an abstract superclass?\n",
    "\n",
    "A1. An abstract superclass is a class that is intended to be inherited from, but not directly instantiated. It contains abstract methods that are meant to be implemented by its subclasses, allowing for code reuse and providing a common interface for related classes.\n",
    "\n"
   ]
  },
  {
   "attachments": {},
   "cell_type": "markdown",
   "metadata": {},
   "source": [
    "2. What happens when a class statement's top level contains a basic assignment statement?\n",
    "\n",
    "A2. When a class statement's top level contains a basic assignment statement, the assigned variable becomes a class variable rather than an instance variable. This means that the variable is shared among all instances of the class, and can be accessed and modified by both the class and its instances."
   ]
  },
  {
   "attachments": {},
   "cell_type": "markdown",
   "metadata": {},
   "source": [
    "3. Why does a class need to manually call a superclass's __init__ method?\n",
    "\n",
    "A3. A class needs to manually call a superclass's init method in order to properly initialize the superclass's attributes and behavior. This is particularly important when a subclass overrides a method that is defined in the superclass, as the superclass's version of the method may be necessary for the subclass to function correctly."
   ]
  },
  {
   "attachments": {},
   "cell_type": "markdown",
   "metadata": {},
   "source": [
    "4. How can you augment, instead of completely replacing, an inherited method?\n",
    "\n",
    "A4. In order to augment an inherited method rather than completely replacing it, the subclass can call the superclass's version of the method using the super() function. This allows the subclass to add additional functionality to the method without having to completely rewrite it."
   ]
  },
  {
   "attachments": {},
   "cell_type": "markdown",
   "metadata": {},
   "source": [
    "5. How is the local scope of a class different from that of a function?\n",
    "\n",
    "A5. The local scope of a class is different from that of a function in that it includes both the class's attributes and any methods defined within the class. In addition, the local scope of a class is accessible from both the class and its instances, whereas the local scope of a function is only accessible from within the function itself."
   ]
  }
 ],
 "metadata": {
  "language_info": {
   "name": "python"
  },
  "orig_nbformat": 4
 },
 "nbformat": 4,
 "nbformat_minor": 2
}
