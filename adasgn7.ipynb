{
 "cells": [
  {
   "attachments": {},
   "cell_type": "markdown",
   "metadata": {},
   "source": [
    "Q1. What is the purpose of the try statement?\n",
    "\n",
    "A1. The purpose of the try statement in Python is to handle exceptions that may occur during the execution of a block of code. The try block contains the code that may raise an exception, while the except block contains the code that will be executed if an exception is raised.\n",
    "\n"
   ]
  },
  {
   "attachments": {},
   "cell_type": "markdown",
   "metadata": {},
   "source": [
    "Q2. What are the two most popular try statement variations?\n",
    "\n",
    "A2. The two most popular variations of the try statement are:\n",
    "\n",
    "try-except: This variation is used to catch and handle specific exceptions that may be raised in the try block. The except block specifies the type of exception to catch and the code to execute in response to the exception.\n",
    "\n",
    "try-finally: This variation is used to ensure that certain cleanup code is always executed, regardless of whether an exception is raised or not. The finally block contains the code that will be executed after the try block, regardless of whether an exception was raised or not.\n",
    "\n"
   ]
  },
  {
   "attachments": {},
   "cell_type": "markdown",
   "metadata": {},
   "source": [
    "Q3. What is the purpose of the raise statement?\n",
    "\n",
    "A3. The raise statement in Python is used to raise an exception manually. This can be useful in cases where you want to indicate that an error condition has occurred or that a certain condition has not been met. The raise statement can also be used to re-raise an exception that was caught in a try-except block.\n",
    "\n"
   ]
  },
  {
   "attachments": {},
   "cell_type": "markdown",
   "metadata": {},
   "source": [
    "Q4. What does the assert statement do, and what other statement is it like?\n",
    "\n",
    "A4. The assert statement in Python is used to check that a certain condition is true, and to raise an AssertionError if the condition is false. This can be useful for debugging and testing purposes. The assert statement is similar to the if statement, but it is more concise and is typically used for situations where a certain condition should always be true.\n"
   ]
  },
  {
   "attachments": {},
   "cell_type": "markdown",
   "metadata": {},
   "source": [
    "Q5. What is the purpose of the with/as argument, and what other statement is it like?\n",
    "\n",
    "\n",
    "A5. The purpose of the with/as argument in Python is to simplify the management of resources such as files and network connections. The with statement is used to create a context in which the resource is available, and the as argument is used to assign a name to the resource. When the context is exited (either normally or due to an exception), the resource is automatically closed and released. The with statement is similar to the try-finally statement, but it is more concise and is specifically designed for managing resources."
   ]
  }
 ],
 "metadata": {
  "language_info": {
   "name": "python"
  },
  "orig_nbformat": 4
 },
 "nbformat": 4,
 "nbformat_minor": 2
}
