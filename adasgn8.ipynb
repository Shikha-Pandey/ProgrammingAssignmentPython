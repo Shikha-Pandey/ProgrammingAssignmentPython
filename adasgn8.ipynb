{
 "cells": [
  {
   "attachments": {},
   "cell_type": "markdown",
   "metadata": {},
   "source": [
    "Q1. What are the two latest user-defined exception constraints in Python 3.X?\n",
    "\n",
    "A1. In Python 3.x, the two latest user-defined exception constraints are:\n",
    "\n",
    "__cause__: This attribute is used to specify the exception that caused the current exception to be raised.\n",
    "\n",
    "__context__: This attribute is used to specify the context in which the exception occurred, such as the line of code or the function that raised the exception.\n"
   ]
  },
  {
   "attachments": {},
   "cell_type": "markdown",
   "metadata": {},
   "source": [
    "Q2. How are class-based exceptions that have been raised matched to handlers?\n",
    "\n",
    "A2. Class-based exceptions that have been raised are matched to handlers based on their inheritance hierarchy. When an exception is raised, Python looks for the first except block that matches the exception type or a superclass of the exception type. If no matching except block is found, the exception is propagated up the call stack until a matching except block is found or the program terminates.\n",
    "\n",
    "\n"
   ]
  },
  {
   "attachments": {},
   "cell_type": "markdown",
   "metadata": {},
   "source": [
    "Q3. Describe two methods for attaching context information to exception artefacts.\n",
    "\n",
    "A3. Two methods for attaching context information to exception artifacts are:\n",
    "\n",
    "__traceback__: This attribute is used to specify the traceback information associated with the exception, including the line of code where the exception occurred.\n",
    "\n",
    "__context__: This attribute is used to specify the context in which the exception occurred, such as the function or module where the exception was raised.\n",
    "\n"
   ]
  },
  {
   "attachments": {},
   "cell_type": "markdown",
   "metadata": {},
   "source": [
    "Q4. Describe two methods for specifying the text of an exception object&#39;s error message.\n",
    "\n",
    "A4. Two methods for specifying the text of an exception object's error message are:\n",
    "\n",
    "Pass the error message as a string argument to the exception constructor. For example, raise ValueError(\"Invalid value\").\n",
    "\n",
    "Override the __str__() method of the exception class to provide a custom error message. For example:"
   ]
  },
  {
   "cell_type": "code",
   "execution_count": 1,
   "metadata": {},
   "outputs": [],
   "source": [
    "class CustomException(Exception):\n",
    "    def __str__(self):\n",
    "        return \"Custom error message\"\n"
   ]
  },
  {
   "attachments": {},
   "cell_type": "markdown",
   "metadata": {},
   "source": [
    "Q5. Why do you no longer use string-based exceptions?\n",
    "\n",
    "A5. String-based exceptions are no longer used because they are less specific and less informative than class-based exceptions. With string-based exceptions, it was difficult to determine the type and cause of an exception, and it was not possible to handle different types of exceptions in a consistent way. Class-based exceptions, on the other hand, provide a structured and extensible way to define and handle exceptions in Python. They allow for more precise and informative error messages, as well as the ability to catch and handle specific types of exceptions."
   ]
  }
 ],
 "metadata": {
  "kernelspec": {
   "display_name": "base",
   "language": "python",
   "name": "python3"
  },
  "language_info": {
   "codemirror_mode": {
    "name": "ipython",
    "version": 3
   },
   "file_extension": ".py",
   "mimetype": "text/x-python",
   "name": "python",
   "nbconvert_exporter": "python",
   "pygments_lexer": "ipython3",
   "version": "3.9.12"
  },
  "orig_nbformat": 4
 },
 "nbformat": 4,
 "nbformat_minor": 2
}
