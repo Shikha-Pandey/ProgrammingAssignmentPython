{
 "cells": [
  {
   "attachments": {},
   "cell_type": "markdown",
   "metadata": {},
   "source": [
    "Q1. Explain the difference between greedy and non-greedy syntax with visual terms in as few words\n",
    "as possible. What is the bare minimum effort required to transform a greedy pattern into a non-greedy\n",
    "one? What characters or characters can you introduce or change?\n",
    "\n",
    "A1. In regular expressions, greedy syntax matches as much as possible while non-greedy syntax matches as little as possible. To transform a greedy pattern into a non-greedy one, you can introduce the \"?\" character immediately after the quantifier, which makes it lazy instead of greedy.\n",
    "\n"
   ]
  },
  {
   "attachments": {},
   "cell_type": "markdown",
   "metadata": {},
   "source": [
    "Q2. When exactly does greedy versus non-greedy make a difference?  What if yous're looking for a\n",
    "non-greedy match but the only one available is greedy?\n",
    "\n",
    "A2. Greedy versus non-greedy makes a difference when there are multiple possible matches for a given pattern. If you are looking for a non-greedy match but the only one available is greedy, you can try to modify the pattern to make it non-greedy by introducing the \"?\" character as described in Q1.\n",
    "\n"
   ]
  },
  {
   "attachments": {},
   "cell_type": "markdown",
   "metadata": {},
   "source": [
    "Q3. In a simple match of a string, which looks only for one match and does not do any replacement, is\n",
    "the use of a nontagged group likely to make any practical difference?\n",
    "\n",
    "A3. In a simple match of a string that only looks for one match and does not do any replacement, the use of a non-tagged group is unlikely to make any practical difference.\n",
    "\n"
   ]
  },
  {
   "attachments": {},
   "cell_type": "markdown",
   "metadata": {},
   "source": [
    "A4. Describe a scenario in which using a nontagged category would have a significant impact on the\n",
    "program's outcomes.\n",
    "\n",
    "Q4. One scenario in which using a non-tagged category would have a significant impact on the program's outcomes is when you need to match a specific character or group of characters, but you want to exclude them from the final match result.\n",
    "\n"
   ]
  },
  {
   "attachments": {},
   "cell_type": "markdown",
   "metadata": {},
   "source": [
    "Q5. Unlike a normal regex pattern, a look-ahead condition does not consume the characters it\n",
    "examines. Describe a situation in which this could make a difference in the results of your\n",
    "programme.\n",
    "\n",
    "A5. A situation in which the look-ahead condition could make a difference in the results of your program is when you need to match a pattern that includes a certain condition, but you want to make sure that the condition is met before proceeding with the match.\n",
    "\n"
   ]
  },
  {
   "attachments": {},
   "cell_type": "markdown",
   "metadata": {},
   "source": [
    "Q6. In standard expressions, what is the difference between positive look-ahead and negative look-\n",
    "ahead?\n",
    "\n",
    "A6. In standard expressions, positive look-ahead matches a pattern only if it is followed by another pattern, while negative look-ahead matches a pattern only if it is not followed by another pattern.\n",
    "\n"
   ]
  },
  {
   "attachments": {},
   "cell_type": "markdown",
   "metadata": {},
   "source": [
    "Q7. What is the benefit of referring to groups by name rather than by number in a standard\n",
    "expression?\n",
    "\n",
    "A7. Referring to groups by name rather than by number in a standard expression has the benefit of making the expression more readable and less prone to errors when modifying or refactoring the code.\n",
    "\n"
   ]
  },
  {
   "attachments": {},
   "cell_type": "markdown",
   "metadata": {},
   "source": [
    "Q8. Can you identify repeated items within a target string using named groups, as in &quot;The cow\n",
    "jumped over the moon&quot;?\n",
    "\n",
    "A8. Yes, you can identify repeated items within a target string using named groups. For example, you could use the following regular expression: r'(?P<word>\\w+)\\s+(?P=word)'. This expression matches any word that is followed by the same word.\n",
    "\n"
   ]
  },
  {
   "attachments": {},
   "cell_type": "markdown",
   "metadata": {},
   "source": [
    "Q9. When parsing a string, what is at least one thing that the Scanner interface does for you that the\n",
    "re.findall feature does not?\n",
    "\n",
    "A9. When parsing a string, the Scanner interface can provide more fine-grained control over the parsing process, allowing you to specify different actions for different parts of the input string. In contrast, the re.findall feature returns a list of all non-overlapping matches of the pattern in the string, without providing any additional parsing functionality.\n"
   ]
  },
  {
   "attachments": {},
   "cell_type": "markdown",
   "metadata": {},
   "source": [
    "Q10. Does a scanner object have to be named scanner?\n",
    "\n",
    "\n",
    "A10. No, a scanner object in Python does not have to be named 'scanner'. You can choose any valid variable name to refer to the scanner object, as long as you use the same variable name throughout your code to refer to the same scanner object instance."
   ]
  }
 ],
 "metadata": {
  "language_info": {
   "name": "python"
  },
  "orig_nbformat": 4
 },
 "nbformat": 4,
 "nbformat_minor": 2
}
