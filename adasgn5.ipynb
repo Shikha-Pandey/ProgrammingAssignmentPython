{
 "cells": [
  {
   "attachments": {},
   "cell_type": "markdown",
   "metadata": {},
   "source": [
    "Q1. What is the meaning of multiple inheritance?\n",
    "\n",
    "A1. Multiple inheritance is a feature in object-oriented programming where a class can inherit properties and methods from multiple parent classes. In other words, a class can be derived from more than one base class, allowing it to have the features of all the base classes."
   ]
  },
  {
   "attachments": {},
   "cell_type": "markdown",
   "metadata": {},
   "source": [
    "Q2. What is the concept of delegation?\n",
    "\n",
    "A2.Delegation is a design pattern in which an object forwards a method call to another object. It is a way of structuring code to achieve code reuse and maintainability. Instead of implementing the functionality in the current object, it delegates the responsibility to another object that specializes in that functionality.\n",
    "\n"
   ]
  },
  {
   "attachments": {},
   "cell_type": "markdown",
   "metadata": {},
   "source": [
    "Q3. What is the concept of composition?\n",
    "\n",
    "A3. Composition is a design pattern where a class is made up of one or more objects of other classes. It is a way of building complex objects by combining simpler objects. The objects that make up the composite object are called components or parts, and they are often designed to be interchangeable with other similar components."
   ]
  },
  {
   "attachments": {},
   "cell_type": "markdown",
   "metadata": {},
   "source": [
    "Q4. What are bound methods and how do we use them?\n",
    "\n",
    "A4. Bound methods are methods that are bound to a specific instance of a class. When a method is called on an instance of a class, it automatically passes the instance as the first argument to the method. This is known as the self parameter in Python. Bound methods can be used to access and modify the attributes of the instance they are bound to."
   ]
  },
  {
   "attachments": {},
   "cell_type": "markdown",
   "metadata": {},
   "source": [
    "Q5. What is the purpose of pseudoprivate attributes?\n",
    "\n",
    "\n",
    "A5. Pseudoprivate attributes are attributes in Python classes that are name-mangled to make them harder to access from outside the class. They are created by prefixing the attribute name with two underscores (e.g. __attribute). This causes the attribute to be renamed to _classname__attribute, making it harder to access from outside the class. The purpose of pseudoprivate attributes is to provide some degree of encapsulation and data hiding, but it is important to note that they are not truly private and can still be accessed with some effort."
   ]
  }
 ],
 "metadata": {
  "language_info": {
   "name": "python"
  },
  "orig_nbformat": 4
 },
 "nbformat": 4,
 "nbformat_minor": 2
}
