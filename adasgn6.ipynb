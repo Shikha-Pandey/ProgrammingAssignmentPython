{
 "cells": [
  {
   "attachments": {},
   "cell_type": "markdown",
   "metadata": {},
   "source": [
    "Q1. Describe three applications for exception processing.\n",
    "\n",
    "A1. Exception processing is a way to handle unexpected or erroneous situations in a program. Some common applications of exception processing are:\n",
    "\n",
    "Error reporting: When an error occurs, an exception can be raised to report the error to the user or developer. This can include information about the type of error, its location in the code, and any relevant data.\n",
    "\n",
    "Recovery and fallback: When an error occurs, the program can attempt to recover from the error and continue execution. For example, it may try to use a fallback method or provide default values.\n",
    "\n",
    "Resource management: Exceptions can be used to manage resources such as files, sockets, and databases. When an error occurs, the program can ensure that the resources are properly closed and released, preventing memory leaks and other issues."
   ]
  },
  {
   "attachments": {},
   "cell_type": "markdown",
   "metadata": {},
   "source": [
    "Q2. What happens if you dont do something extra to treat an exception?\n",
    "\n",
    "A2. If an exception is not handled or caught, it will propagate up the call stack until it reaches the top-level of the program. At this point, the program will terminate with an error message, and any resources that were opened will not be properly closed, leading to potential issues such as memory leaks."
   ]
  },
  {
   "attachments": {},
   "cell_type": "markdown",
   "metadata": {},
   "source": [
    "Q3. What are your options for recovering from an exception in your script?\n",
    "\n",
    "A3. When an exception occurs in a script, there are several options for recovering from the exception:\n",
    "\n",
    "Catch the exception using a try-except block and handle it appropriately. This could involve logging the error, displaying an error message to the user, or attempting to recover from the error.\n",
    "\n",
    "Retry the operation that caused the exception, either immediately or after some delay. This can be useful in cases where the error was caused by a temporary condition such as a network outage.\n",
    "\n",
    "Roll back any changes that were made before the exception occurred, if applicable. This can be useful in cases where the program was in the middle of a transaction that needs to be atomic.\n",
    "\n"
   ]
  },
  {
   "attachments": {},
   "cell_type": "markdown",
   "metadata": {},
   "source": [
    "Q4. Describe two methods for triggering exceptions in your script.\n",
    "\n",
    "A4. There are several methods for triggering exceptions in a script:\n",
    "\n",
    "Raise an exception using the raise keyword. This can be used to indicate that an error condition has occurred or that a certain condition has not been met.\n",
    "\n",
    "Use assertion statements to check for certain conditions that should be true. If the condition is false, an AssertionError will be raised.\n",
    "\n"
   ]
  },
  {
   "attachments": {},
   "cell_type": "markdown",
   "metadata": {},
   "source": [
    "Q5. Identify two methods for specifying actions to be executed at termination time, regardless of\n",
    "whether or not an exception exists.\n",
    "\n",
    "A5. Two methods for specifying actions to be executed at termination time are:\n",
    "\n",
    "Using a finally block. This block is always executed, regardless of whether an exception was raised or not. It can be used to ensure that resources are properly released or to perform cleanup operations.\n",
    "\n",
    "Using the atexit module. This module provides a way to register functions to be called when the program is exiting. These functions are called in the reverse order of their registration, and can be used to perform cleanup operations or to log the termination of the program."
   ]
  }
 ],
 "metadata": {
  "language_info": {
   "name": "python"
  },
  "orig_nbformat": 4
 },
 "nbformat": 4,
 "nbformat_minor": 2
}
