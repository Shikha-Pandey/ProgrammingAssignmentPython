{
 "cells": [
  {
   "cell_type": "markdown",
   "id": "a0c5ff40",
   "metadata": {},
   "source": [
    "1.\tWrite a Python Program to Find the Factorial of a Number?\n",
    "\n"
   ]
  },
  {
   "cell_type": "code",
   "execution_count": 6,
   "id": "1127bb63",
   "metadata": {},
   "outputs": [
    {
     "name": "stdout",
     "output_type": "stream",
     "text": [
      "Enter a No. :6\n",
      "factorial of No is : 720\n"
     ]
    }
   ],
   "source": [
    "x=int(input(\"Enter a No. :\"))\n",
    "for i in range(1,x):\n",
    "    x=x*i\n",
    "print(\"factorial of No is :\", x)"
   ]
  },
  {
   "cell_type": "markdown",
   "id": "86432737",
   "metadata": {},
   "source": [
    "2.\tWrite a Python Program to Display the multiplication Table?\n"
   ]
  },
  {
   "cell_type": "code",
   "execution_count": 9,
   "id": "f0d8170c",
   "metadata": {},
   "outputs": [
    {
     "name": "stdout",
     "output_type": "stream",
     "text": [
      "Enter the No3\n",
      "3    *   1   = 3\n",
      "3    *   2   = 6\n",
      "3    *   3   = 9\n",
      "3    *   4   = 12\n",
      "3    *   5   = 15\n",
      "3    *   6   = 18\n",
      "3    *   7   = 21\n",
      "3    *   8   = 24\n",
      "3    *   9   = 27\n",
      "3    *   10   = 30\n"
     ]
    }
   ],
   "source": [
    "x=int(input(\"Enter the No\"))\n",
    "\n",
    "for i in range(1,11):\n",
    "    y=x * i\n",
    "    print(x ,\"  \" ,\"*\",\" \", i,\" \",\"=\",y )"
   ]
  },
  {
   "cell_type": "markdown",
   "id": "c827bc5b",
   "metadata": {},
   "source": [
    "3.\tWrite a Python Program to Print the Fibonacci sequence?\n"
   ]
  },
  {
   "cell_type": "code",
   "execution_count": 46,
   "id": "414d0bbb",
   "metadata": {
    "scrolled": true
   },
   "outputs": [
    {
     "name": "stdout",
     "output_type": "stream",
     "text": [
      "Enter a no10\n",
      "1 1 2 3 5 8 13 21 34 "
     ]
    }
   ],
   "source": [
    "x=int(input(\"Enter a no\"))\n",
    "a=0\n",
    "b=1\n",
    "for i in range (1,x):\n",
    "  \n",
    "    y=a+b\n",
    "    b=a\n",
    "    a=y\n",
    "    print(y,end=\" \")\n",
    "    \n",
    "    "
   ]
  },
  {
   "cell_type": "markdown",
   "id": "88bc484a",
   "metadata": {},
   "source": [
    "4.\tWrite a Python Program to Check Armstrong Number?\n"
   ]
  },
  {
   "cell_type": "code",
   "execution_count": 11,
   "id": "8082b114",
   "metadata": {},
   "outputs": [
    {
     "name": "stdout",
     "output_type": "stream",
     "text": [
      "Enter the No : 1634\n",
      "Armstrong No\n"
     ]
    }
   ],
   "source": [
    "num=int(input(\"Enter the No : \"))\n",
    "sum=0\n",
    "temp=num\n",
    "order=len(str(num)\n",
    "while temp>0:\n",
    "    digit=temp%10\n",
    "    sum=sum+digit**3\n",
    "    temp//=10\n",
    "\n",
    "if sum == num:\n",
    "    print(\"Armstrong No\")\n",
    "else:\n",
    "    print(\"Not an armstrong No\")\n",
    "    "
   ]
  },
  {
   "cell_type": "markdown",
   "id": "46dc200d",
   "metadata": {},
   "source": [
    "##### 5.\tWrite a Python Program to Find Armstrong Number in an Interval?\n"
   ]
  },
  {
   "cell_type": "code",
   "execution_count": 3,
   "id": "d9ed6c89",
   "metadata": {},
   "outputs": [
    {
     "name": "stdout",
     "output_type": "stream",
     "text": [
      "Enter the lower range : 10\n",
      "Enter the upper range : 2000\n",
      "153 370 371 407 1634 "
     ]
    }
   ],
   "source": [
    "lower=int(input(\"Enter the lower range : \"))\n",
    "upper=int(input(\"Enter the upper range : \"))\n",
    "\n",
    "for i in range(lower,upper+1):\n",
    "    order=len(str(i))\n",
    "    temp=i\n",
    "    sum=0\n",
    "    while temp>0:\n",
    "        digit=temp%10\n",
    "        sum=sum+digit**order\n",
    "        temp//=10\n",
    "        \n",
    "    if sum==i:\n",
    "        print(i,end=\" \")\n",
    "\n",
    "\n",
    "    "
   ]
  },
  {
   "cell_type": "markdown",
   "id": "43d4ad87",
   "metadata": {},
   "source": [
    "6.\tWrite a Python Program to Find the Sum of Natural Numbers?"
   ]
  },
  {
   "cell_type": "code",
   "execution_count": 8,
   "id": "3bfa1337",
   "metadata": {},
   "outputs": [
    {
     "name": "stdout",
     "output_type": "stream",
     "text": [
      "Enter the No : 100\n",
      "Sum of all natural no is  5050\n"
     ]
    }
   ],
   "source": [
    "num=int(input(\"Enter the No : \"))\n",
    "sum=0\n",
    "for i in range(1,num+1):\n",
    "    sum=sum+i\n",
    "    \n",
    "print(\"Sum of all natural no is \",sum)\n",
    "    "
   ]
  },
  {
   "cell_type": "code",
   "execution_count": null,
   "id": "464a1239",
   "metadata": {},
   "outputs": [],
   "source": []
  },
  {
   "cell_type": "code",
   "execution_count": null,
   "id": "3fd8cf1a",
   "metadata": {},
   "outputs": [],
   "source": []
  }
 ],
 "metadata": {
  "kernelspec": {
   "display_name": "Python 3 (ipykernel)",
   "language": "python",
   "name": "python3"
  },
  "language_info": {
   "codemirror_mode": {
    "name": "ipython",
    "version": 3
   },
   "file_extension": ".py",
   "mimetype": "text/x-python",
   "name": "python",
   "nbconvert_exporter": "python",
   "pygments_lexer": "ipython3",
   "version": "3.9.12"
  }
 },
 "nbformat": 4,
 "nbformat_minor": 5
}
