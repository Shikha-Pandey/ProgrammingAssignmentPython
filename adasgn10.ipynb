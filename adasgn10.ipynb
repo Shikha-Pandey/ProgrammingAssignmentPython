{
 "cells": [
  {
   "attachments": {},
   "cell_type": "markdown",
   "metadata": {},
   "source": [
    "Q1. What is the difference between __getattr__ and __getattribute__?\n",
    "\n",
    "A1. The key difference between __getattr__ and __getattribute__ is that __getattr__ is called only when an attribute is not found by looking up the normal places (i.e., the object's __dict__, its class, and its superclasses), whereas __getattribute__ is called for every attribute lookup. This means that __getattr__ is used for handling the lookup of undefined attributes, while __getattribute__ is used for intercepting all attribute lookups.\n",
    "\n"
   ]
  },
  {
   "attachments": {},
   "cell_type": "markdown",
   "metadata": {},
   "source": [
    "Q2. What is the difference between properties and descriptors?\n",
    "\n",
    "A2. The main difference between properties and descriptors is that properties define a specific behavior for getting, setting, and deleting attributes on an object, while descriptors provide a general mechanism for controlling attribute access. Properties are a type of descriptor, but they are limited to defining a fixed behavior for getting, setting, and deleting a single attribute on an object, while descriptors can be used to define more complex behaviors, such as attribute validation or lazy evaluation.\n",
    "\n"
   ]
  },
  {
   "attachments": {},
   "cell_type": "markdown",
   "metadata": {},
   "source": [
    "Q3. What are the key differences in functionality between __getattr__ and __getattribute__, as well as\n",
    "properties and descriptors?\n",
    "\n",
    "A3. The main difference in functionality between __getattr__ and __getattribute__ is that __getattr__ is called only when an attribute is not found by looking up the normal places, while __getattribute__ is called for every attribute lookup. In terms of functionality, __getattr__ is typically used to handle the lookup of undefined attributes, while __getattribute__ is typically used to intercept all attribute lookups and provide custom behavior.\n",
    "\n",
    "The main difference in functionality between properties and descriptors is that properties define a specific behavior for getting, setting, and deleting attributes on an object, while descriptors provide a general mechanism for controlling attribute access. Properties are typically used to define simple behaviors for getting, setting, and deleting a single attribute, while descriptors can be used to define more complex behaviors, such as attribute validation or lazy evaluation."
   ]
  }
 ],
 "metadata": {
  "language_info": {
   "name": "python"
  },
  "orig_nbformat": 4
 },
 "nbformat": 4,
 "nbformat_minor": 2
}
